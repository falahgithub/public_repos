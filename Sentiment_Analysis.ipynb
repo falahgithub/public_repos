{
  "nbformat": 4,
  "nbformat_minor": 0,
  "metadata": {
    "colab": {
      "provenance": []
    },
    "kernelspec": {
      "name": "python3",
      "display_name": "Python 3"
    },
    "language_info": {
      "name": "python"
    },
    "accelerator": "GPU",
    "gpuClass": "standard"
  },
  "cells": [
    {
      "cell_type": "markdown",
      "source": [
        "## Problems of Natural Language Processing\n",
        "\n",
        "\n",
        "*   Sentiment analysis of the movie reviews comes under the category of NLP problems and we will utilise NLP concepts to solve the challenge.\n",
        "*   The steps we will be following include :  \n",
        "    * Downloading the data\n",
        "    * Creating train and test sets from the dataset\n",
        "    * Converting text into numbers using tokenization\n",
        "    * Sequencing and Padding of input data\n",
        "    * Building the model\n",
        "    * Fitting and Evaluating the model\n",
        "\n"
      ],
      "metadata": {
        "id": "TYOx1LsS4r2g"
      }
    },
    {
      "cell_type": "code",
      "source": [
        "# Checking for GPU\n",
        "!nvidia-smi -L"
      ],
      "metadata": {
        "colab": {
          "base_uri": "https://localhost:8080/"
        },
        "id": "Gw1s55s1CX-p",
        "outputId": "d357a8ee-726e-42bd-bf40-a05767f5e952"
      },
      "execution_count": 15,
      "outputs": [
        {
          "output_type": "stream",
          "name": "stdout",
          "text": [
            "GPU 0: Tesla T4 (UUID: GPU-b0845839-174e-628e-1c89-f31d7fb32d9e)\n"
          ]
        }
      ]
    },
    {
      "cell_type": "code",
      "source": [
        "# Importing required libraries\n",
        "\n",
        "import tensorflow as tf\n",
        "import pandas as pd\n",
        "from keras.preprocessing.text import Tokenizer\n",
        "from tensorflow.keras.preprocessing.sequence import pad_sequences"
      ],
      "metadata": {
        "id": "pk1hPo0S7IMa"
      },
      "execution_count": 4,
      "outputs": []
    },
    {
      "cell_type": "code",
      "source": [
        "# Preparation for downloading data from kaggle directly into colab\n",
        "\n",
        "! pip install -q kaggle\n",
        "from google.colab import files\n",
        "files.upload()\n",
        "!mkdir ~/.kaggle\n",
        "! cp kaggle.json ~/.kaggle/\n",
        "! chmod 600 ~/.kaggle/kaggle.json"
      ],
      "metadata": {
        "id": "Zwfycz3qMInA",
        "colab": {
          "base_uri": "https://localhost:8080/",
          "height": 73
        },
        "outputId": "afc1e728-653c-4ff7-cb25-7593a0835666"
      },
      "execution_count": 5,
      "outputs": [
        {
          "output_type": "display_data",
          "data": {
            "text/plain": [
              "<IPython.core.display.HTML object>"
            ],
            "text/html": [
              "\n",
              "     <input type=\"file\" id=\"files-ae152b6d-07d7-4752-aafa-06f80ae06eb1\" name=\"files[]\" multiple disabled\n",
              "        style=\"border:none\" />\n",
              "     <output id=\"result-ae152b6d-07d7-4752-aafa-06f80ae06eb1\">\n",
              "      Upload widget is only available when the cell has been executed in the\n",
              "      current browser session. Please rerun this cell to enable.\n",
              "      </output>\n",
              "      <script>// Copyright 2017 Google LLC\n",
              "//\n",
              "// Licensed under the Apache License, Version 2.0 (the \"License\");\n",
              "// you may not use this file except in compliance with the License.\n",
              "// You may obtain a copy of the License at\n",
              "//\n",
              "//      http://www.apache.org/licenses/LICENSE-2.0\n",
              "//\n",
              "// Unless required by applicable law or agreed to in writing, software\n",
              "// distributed under the License is distributed on an \"AS IS\" BASIS,\n",
              "// WITHOUT WARRANTIES OR CONDITIONS OF ANY KIND, either express or implied.\n",
              "// See the License for the specific language governing permissions and\n",
              "// limitations under the License.\n",
              "\n",
              "/**\n",
              " * @fileoverview Helpers for google.colab Python module.\n",
              " */\n",
              "(function(scope) {\n",
              "function span(text, styleAttributes = {}) {\n",
              "  const element = document.createElement('span');\n",
              "  element.textContent = text;\n",
              "  for (const key of Object.keys(styleAttributes)) {\n",
              "    element.style[key] = styleAttributes[key];\n",
              "  }\n",
              "  return element;\n",
              "}\n",
              "\n",
              "// Max number of bytes which will be uploaded at a time.\n",
              "const MAX_PAYLOAD_SIZE = 100 * 1024;\n",
              "\n",
              "function _uploadFiles(inputId, outputId) {\n",
              "  const steps = uploadFilesStep(inputId, outputId);\n",
              "  const outputElement = document.getElementById(outputId);\n",
              "  // Cache steps on the outputElement to make it available for the next call\n",
              "  // to uploadFilesContinue from Python.\n",
              "  outputElement.steps = steps;\n",
              "\n",
              "  return _uploadFilesContinue(outputId);\n",
              "}\n",
              "\n",
              "// This is roughly an async generator (not supported in the browser yet),\n",
              "// where there are multiple asynchronous steps and the Python side is going\n",
              "// to poll for completion of each step.\n",
              "// This uses a Promise to block the python side on completion of each step,\n",
              "// then passes the result of the previous step as the input to the next step.\n",
              "function _uploadFilesContinue(outputId) {\n",
              "  const outputElement = document.getElementById(outputId);\n",
              "  const steps = outputElement.steps;\n",
              "\n",
              "  const next = steps.next(outputElement.lastPromiseValue);\n",
              "  return Promise.resolve(next.value.promise).then((value) => {\n",
              "    // Cache the last promise value to make it available to the next\n",
              "    // step of the generator.\n",
              "    outputElement.lastPromiseValue = value;\n",
              "    return next.value.response;\n",
              "  });\n",
              "}\n",
              "\n",
              "/**\n",
              " * Generator function which is called between each async step of the upload\n",
              " * process.\n",
              " * @param {string} inputId Element ID of the input file picker element.\n",
              " * @param {string} outputId Element ID of the output display.\n",
              " * @return {!Iterable<!Object>} Iterable of next steps.\n",
              " */\n",
              "function* uploadFilesStep(inputId, outputId) {\n",
              "  const inputElement = document.getElementById(inputId);\n",
              "  inputElement.disabled = false;\n",
              "\n",
              "  const outputElement = document.getElementById(outputId);\n",
              "  outputElement.innerHTML = '';\n",
              "\n",
              "  const pickedPromise = new Promise((resolve) => {\n",
              "    inputElement.addEventListener('change', (e) => {\n",
              "      resolve(e.target.files);\n",
              "    });\n",
              "  });\n",
              "\n",
              "  const cancel = document.createElement('button');\n",
              "  inputElement.parentElement.appendChild(cancel);\n",
              "  cancel.textContent = 'Cancel upload';\n",
              "  const cancelPromise = new Promise((resolve) => {\n",
              "    cancel.onclick = () => {\n",
              "      resolve(null);\n",
              "    };\n",
              "  });\n",
              "\n",
              "  // Wait for the user to pick the files.\n",
              "  const files = yield {\n",
              "    promise: Promise.race([pickedPromise, cancelPromise]),\n",
              "    response: {\n",
              "      action: 'starting',\n",
              "    }\n",
              "  };\n",
              "\n",
              "  cancel.remove();\n",
              "\n",
              "  // Disable the input element since further picks are not allowed.\n",
              "  inputElement.disabled = true;\n",
              "\n",
              "  if (!files) {\n",
              "    return {\n",
              "      response: {\n",
              "        action: 'complete',\n",
              "      }\n",
              "    };\n",
              "  }\n",
              "\n",
              "  for (const file of files) {\n",
              "    const li = document.createElement('li');\n",
              "    li.append(span(file.name, {fontWeight: 'bold'}));\n",
              "    li.append(span(\n",
              "        `(${file.type || 'n/a'}) - ${file.size} bytes, ` +\n",
              "        `last modified: ${\n",
              "            file.lastModifiedDate ? file.lastModifiedDate.toLocaleDateString() :\n",
              "                                    'n/a'} - `));\n",
              "    const percent = span('0% done');\n",
              "    li.appendChild(percent);\n",
              "\n",
              "    outputElement.appendChild(li);\n",
              "\n",
              "    const fileDataPromise = new Promise((resolve) => {\n",
              "      const reader = new FileReader();\n",
              "      reader.onload = (e) => {\n",
              "        resolve(e.target.result);\n",
              "      };\n",
              "      reader.readAsArrayBuffer(file);\n",
              "    });\n",
              "    // Wait for the data to be ready.\n",
              "    let fileData = yield {\n",
              "      promise: fileDataPromise,\n",
              "      response: {\n",
              "        action: 'continue',\n",
              "      }\n",
              "    };\n",
              "\n",
              "    // Use a chunked sending to avoid message size limits. See b/62115660.\n",
              "    let position = 0;\n",
              "    do {\n",
              "      const length = Math.min(fileData.byteLength - position, MAX_PAYLOAD_SIZE);\n",
              "      const chunk = new Uint8Array(fileData, position, length);\n",
              "      position += length;\n",
              "\n",
              "      const base64 = btoa(String.fromCharCode.apply(null, chunk));\n",
              "      yield {\n",
              "        response: {\n",
              "          action: 'append',\n",
              "          file: file.name,\n",
              "          data: base64,\n",
              "        },\n",
              "      };\n",
              "\n",
              "      let percentDone = fileData.byteLength === 0 ?\n",
              "          100 :\n",
              "          Math.round((position / fileData.byteLength) * 100);\n",
              "      percent.textContent = `${percentDone}% done`;\n",
              "\n",
              "    } while (position < fileData.byteLength);\n",
              "  }\n",
              "\n",
              "  // All done.\n",
              "  yield {\n",
              "    response: {\n",
              "      action: 'complete',\n",
              "    }\n",
              "  };\n",
              "}\n",
              "\n",
              "scope.google = scope.google || {};\n",
              "scope.google.colab = scope.google.colab || {};\n",
              "scope.google.colab._files = {\n",
              "  _uploadFiles,\n",
              "  _uploadFilesContinue,\n",
              "};\n",
              "})(self);\n",
              "</script> "
            ]
          },
          "metadata": {}
        },
        {
          "output_type": "stream",
          "name": "stdout",
          "text": [
            "Saving kaggle.json to kaggle.json\n"
          ]
        }
      ]
    },
    {
      "cell_type": "code",
      "source": [
        "# Downloading and Unzipping the zipped file from Kaggle\n",
        "\n",
        "!kaggle datasets download -d lakshmi25npathi/imdb-dataset-of-50k-movie-reviews\n",
        "!unzip imdb-dataset-of-50k-movie-reviews.zip"
      ],
      "metadata": {
        "id": "OMXGvv4vPlqr",
        "colab": {
          "base_uri": "https://localhost:8080/"
        },
        "outputId": "d958d67a-357a-4a52-cd20-c6d7ee0624e8"
      },
      "execution_count": 6,
      "outputs": [
        {
          "output_type": "stream",
          "name": "stdout",
          "text": [
            "Downloading imdb-dataset-of-50k-movie-reviews.zip to /content\n",
            "100% 25.7M/25.7M [00:02<00:00, 20.2MB/s]\n",
            "100% 25.7M/25.7M [00:02<00:00, 11.4MB/s]\n",
            "Archive:  imdb-dataset-of-50k-movie-reviews.zip\n",
            "  inflating: IMDB Dataset.csv        \n"
          ]
        }
      ]
    },
    {
      "cell_type": "code",
      "source": [
        "# Reading the downloaded csv file\n",
        "\n",
        "data_csv = pd.read_csv(\"IMDB Dataset.csv\")"
      ],
      "metadata": {
        "id": "S-rZsOMFQQdB"
      },
      "execution_count": 7,
      "outputs": []
    },
    {
      "cell_type": "code",
      "source": [
        "# Viewing the data \n",
        "\n",
        "data_csv.info()"
      ],
      "metadata": {
        "id": "z0QGvg_nvbf2",
        "colab": {
          "base_uri": "https://localhost:8080/"
        },
        "outputId": "9be377f2-8396-4740-bac1-ec1910ed43db"
      },
      "execution_count": 8,
      "outputs": [
        {
          "output_type": "stream",
          "name": "stdout",
          "text": [
            "<class 'pandas.core.frame.DataFrame'>\n",
            "RangeIndex: 50000 entries, 0 to 49999\n",
            "Data columns (total 2 columns):\n",
            " #   Column     Non-Null Count  Dtype \n",
            "---  ------     --------------  ----- \n",
            " 0   review     50000 non-null  object\n",
            " 1   sentiment  50000 non-null  object\n",
            "dtypes: object(2)\n",
            "memory usage: 781.4+ KB\n"
          ]
        }
      ]
    },
    {
      "cell_type": "code",
      "source": [
        "# Creating train and test sets from the data\n",
        "\n",
        "train_data, train_label = data_csv[\"review\"][:40000], data_csv[\"sentiment\"][:40000]       # 80% for training\n",
        "test_data, test_label = data_csv[\"review\"][40000:], data_csv[\"sentiment\"][40000:]         # 20% for testing"
      ],
      "metadata": {
        "id": "ldThIDYU6Mbm"
      },
      "execution_count": 9,
      "outputs": []
    },
    {
      "cell_type": "code",
      "source": [
        "# Encoding of labels into 0 and 1 integers\n",
        "\n",
        "def encode_sentiments(sentiment):                # function for labels\n",
        "  if sentiment == \"positive\":\n",
        "    return 1\n",
        "  else:\n",
        "    return 0\n",
        "\n",
        "train_label_encoded = train_label.apply(encode_sentiments)\n",
        "test_label_encoded = test_label.apply(encode_sentiments)"
      ],
      "metadata": {
        "id": "4CqYvFnR7C_o"
      },
      "execution_count": 11,
      "outputs": []
    },
    {
      "cell_type": "code",
      "source": [
        "# Using Tokenizer class for tokenising the input reviews\n",
        "\n",
        "vocab_size = 10000\n",
        "oov_token = \"<OOV>\"\n",
        "\n",
        "tokenizer = Tokenizer(num_words = vocab_size,               # Utilising Tokenizer class\n",
        "                      oov_token=oov_token)\n",
        "\n",
        "tokenizer.fit_on_texts(data_csv[\"review\"])"
      ],
      "metadata": {
        "id": "FYmApeyX92tr"
      },
      "execution_count": 13,
      "outputs": []
    },
    {
      "cell_type": "code",
      "source": [
        "# Transforming text into sequence of integers\n",
        "\n",
        "train_sequences = tokenizer.texts_to_sequences(train_data)\n",
        "test_sequences = tokenizer.texts_to_sequences(test_data)"
      ],
      "metadata": {
        "id": "CWbr1Z1T86OK"
      },
      "execution_count": 14,
      "outputs": []
    },
    {
      "cell_type": "code",
      "source": [
        "# Padding of sequences to equalize the length of input tensors\n",
        "\n",
        "max_length = 1000\n",
        "padding_type='post'\n",
        "truncation_type='post'\n",
        "\n",
        "train_padded = pad_sequences(train_sequences,          # Utilising pad_sequences function\n",
        "                             maxlen=max_length, \n",
        "                             padding=padding_type,\n",
        "                             truncating=truncation_type\n",
        "                             )\n",
        "\n",
        "test_padded = pad_sequences(test_sequences,\n",
        "                            maxlen=max_length, \n",
        "                            padding=padding_type,\n",
        "                            truncating=truncation_type\n",
        "                            )"
      ],
      "metadata": {
        "id": "Myi4DmJe-GRv"
      },
      "execution_count": 16,
      "outputs": []
    },
    {
      "cell_type": "code",
      "source": [
        "# Creating the model \n",
        "\n",
        "model = tf.keras.Sequential([\n",
        "    tf.keras.layers.Embedding(10000, 16, input_length = 1000),\n",
        "    tf.keras.layers.GlobalAveragePooling1D(),                           \n",
        "    tf.keras.layers.Dense(32, activation=\"relu\"),    \n",
        "    tf.keras.layers.Dense(1, activation=\"sigmoid\")                      # sigmoid because of binary classification\n",
        "])"
      ],
      "metadata": {
        "id": "8-L7HKW3-lw1"
      },
      "execution_count": 17,
      "outputs": []
    },
    {
      "cell_type": "code",
      "source": [
        "# Compiling the model\n",
        "\n",
        "model.compile(optimizer=\"Adam\",\n",
        "              loss=\"binary_crossentropy\",\n",
        "              metrics=[\"accuracy\"]\n",
        "              )"
      ],
      "metadata": {
        "id": "Ev3oLRV6AMst"
      },
      "execution_count": 18,
      "outputs": []
    },
    {
      "cell_type": "code",
      "source": [
        "# Fitting the model\n",
        "\n",
        "model.fit(train_padded,\n",
        "          train_label_encoded,\n",
        "          epochs=30,\n",
        "          batch_size = 512,\n",
        "          validation_data = (test_padded, test_label_encoded)\n",
        "          )"
      ],
      "metadata": {
        "colab": {
          "base_uri": "https://localhost:8080/"
        },
        "id": "rNnP26gtAeNq",
        "outputId": "b53f8562-56fb-4c20-ab3c-6dde4573f577"
      },
      "execution_count": 19,
      "outputs": [
        {
          "output_type": "stream",
          "name": "stdout",
          "text": [
            "Epoch 1/30\n",
            "79/79 [==============================] - 3s 10ms/step - loss: 0.6921 - accuracy: 0.5198 - val_loss: 0.6900 - val_accuracy: 0.5088\n",
            "Epoch 2/30\n",
            "79/79 [==============================] - 1s 7ms/step - loss: 0.6824 - accuracy: 0.6833 - val_loss: 0.6689 - val_accuracy: 0.7291\n",
            "Epoch 3/30\n",
            "79/79 [==============================] - 1s 7ms/step - loss: 0.6426 - accuracy: 0.7417 - val_loss: 0.6091 - val_accuracy: 0.7669\n",
            "Epoch 4/30\n",
            "79/79 [==============================] - 1s 7ms/step - loss: 0.5695 - accuracy: 0.7929 - val_loss: 0.5316 - val_accuracy: 0.7968\n",
            "Epoch 5/30\n",
            "79/79 [==============================] - 1s 7ms/step - loss: 0.4890 - accuracy: 0.8311 - val_loss: 0.4580 - val_accuracy: 0.8375\n",
            "Epoch 6/30\n",
            "79/79 [==============================] - 1s 7ms/step - loss: 0.4203 - accuracy: 0.8573 - val_loss: 0.4089 - val_accuracy: 0.8406\n",
            "Epoch 7/30\n",
            "79/79 [==============================] - 1s 7ms/step - loss: 0.3716 - accuracy: 0.8690 - val_loss: 0.3674 - val_accuracy: 0.8652\n",
            "Epoch 8/30\n",
            "79/79 [==============================] - 1s 7ms/step - loss: 0.3354 - accuracy: 0.8810 - val_loss: 0.3400 - val_accuracy: 0.8761\n",
            "Epoch 9/30\n",
            "79/79 [==============================] - 1s 7ms/step - loss: 0.3094 - accuracy: 0.8882 - val_loss: 0.3219 - val_accuracy: 0.8792\n",
            "Epoch 10/30\n",
            "79/79 [==============================] - 1s 7ms/step - loss: 0.2893 - accuracy: 0.8948 - val_loss: 0.3074 - val_accuracy: 0.8849\n",
            "Epoch 11/30\n",
            "79/79 [==============================] - 1s 7ms/step - loss: 0.2731 - accuracy: 0.9003 - val_loss: 0.2969 - val_accuracy: 0.8887\n",
            "Epoch 12/30\n",
            "79/79 [==============================] - 1s 7ms/step - loss: 0.2594 - accuracy: 0.9051 - val_loss: 0.2885 - val_accuracy: 0.8924\n",
            "Epoch 13/30\n",
            "79/79 [==============================] - 1s 7ms/step - loss: 0.2486 - accuracy: 0.9089 - val_loss: 0.2815 - val_accuracy: 0.8947\n",
            "Epoch 14/30\n",
            "79/79 [==============================] - 1s 7ms/step - loss: 0.2380 - accuracy: 0.9134 - val_loss: 0.2770 - val_accuracy: 0.8973\n",
            "Epoch 15/30\n",
            "79/79 [==============================] - 1s 7ms/step - loss: 0.2290 - accuracy: 0.9159 - val_loss: 0.2730 - val_accuracy: 0.8977\n",
            "Epoch 16/30\n",
            "79/79 [==============================] - 1s 7ms/step - loss: 0.2210 - accuracy: 0.9188 - val_loss: 0.2687 - val_accuracy: 0.9007\n",
            "Epoch 17/30\n",
            "79/79 [==============================] - 1s 7ms/step - loss: 0.2144 - accuracy: 0.9223 - val_loss: 0.2672 - val_accuracy: 0.8994\n",
            "Epoch 18/30\n",
            "79/79 [==============================] - 1s 7ms/step - loss: 0.2076 - accuracy: 0.9243 - val_loss: 0.2676 - val_accuracy: 0.8973\n",
            "Epoch 19/30\n",
            "79/79 [==============================] - 1s 7ms/step - loss: 0.2020 - accuracy: 0.9255 - val_loss: 0.2623 - val_accuracy: 0.9025\n",
            "Epoch 20/30\n",
            "79/79 [==============================] - 1s 7ms/step - loss: 0.1962 - accuracy: 0.9281 - val_loss: 0.2615 - val_accuracy: 0.9020\n",
            "Epoch 21/30\n",
            "79/79 [==============================] - 1s 9ms/step - loss: 0.1916 - accuracy: 0.9298 - val_loss: 0.2657 - val_accuracy: 0.8969\n",
            "Epoch 22/30\n",
            "79/79 [==============================] - 1s 8ms/step - loss: 0.1869 - accuracy: 0.9317 - val_loss: 0.2599 - val_accuracy: 0.9034\n",
            "Epoch 23/30\n",
            "79/79 [==============================] - 1s 12ms/step - loss: 0.1840 - accuracy: 0.9331 - val_loss: 0.2598 - val_accuracy: 0.9036\n",
            "Epoch 24/30\n",
            "79/79 [==============================] - 1s 11ms/step - loss: 0.1783 - accuracy: 0.9346 - val_loss: 0.2622 - val_accuracy: 0.9003\n",
            "Epoch 25/30\n",
            "79/79 [==============================] - 1s 12ms/step - loss: 0.1755 - accuracy: 0.9360 - val_loss: 0.2603 - val_accuracy: 0.9009\n",
            "Epoch 26/30\n",
            "79/79 [==============================] - 1s 11ms/step - loss: 0.1726 - accuracy: 0.9365 - val_loss: 0.2610 - val_accuracy: 0.9003\n",
            "Epoch 27/30\n",
            "79/79 [==============================] - 1s 14ms/step - loss: 0.1687 - accuracy: 0.9384 - val_loss: 0.2616 - val_accuracy: 0.9020\n",
            "Epoch 28/30\n",
            "79/79 [==============================] - 1s 13ms/step - loss: 0.1655 - accuracy: 0.9400 - val_loss: 0.2731 - val_accuracy: 0.8948\n",
            "Epoch 29/30\n",
            "79/79 [==============================] - 1s 12ms/step - loss: 0.1629 - accuracy: 0.9405 - val_loss: 0.2628 - val_accuracy: 0.9019\n",
            "Epoch 30/30\n",
            "79/79 [==============================] - 1s 13ms/step - loss: 0.1600 - accuracy: 0.9422 - val_loss: 0.2645 - val_accuracy: 0.9003\n"
          ]
        },
        {
          "output_type": "execute_result",
          "data": {
            "text/plain": [
              "<keras.callbacks.History at 0x7f7c1cb48040>"
            ]
          },
          "metadata": {},
          "execution_count": 19
        }
      ]
    },
    {
      "cell_type": "code",
      "source": [
        "# Evaluating the model performance\n",
        "\n",
        "model.evaluate(test_padded, test_label_encoded)"
      ],
      "metadata": {
        "colab": {
          "base_uri": "https://localhost:8080/"
        },
        "id": "5ekNqL28C3D6",
        "outputId": "12b139da-7286-4c01-ee9a-a6326a580c23"
      },
      "execution_count": 21,
      "outputs": [
        {
          "output_type": "stream",
          "name": "stdout",
          "text": [
            "313/313 [==============================] - 1s 2ms/step - loss: 0.2645 - accuracy: 0.9003\n"
          ]
        },
        {
          "output_type": "execute_result",
          "data": {
            "text/plain": [
              "[0.26453840732574463, 0.9003000259399414]"
            ]
          },
          "metadata": {},
          "execution_count": 21
        }
      ]
    }
  ]
}